{
 "cells": [
  {
   "cell_type": "markdown",
   "metadata": {},
   "source": [
    "### 0. 환경설정\n",
    "`requests` 설치"
   ]
  },
  {
   "cell_type": "code",
   "execution_count": null,
   "metadata": {
    "collapsed": false
   },
   "outputs": [],
   "source": [
    "! pip install requests --upgrade"
   ]
  },
  {
   "cell_type": "markdown",
   "metadata": {},
   "source": [
    "### 1. 데이터 입수"
   ]
  },
  {
   "cell_type": "code",
   "execution_count": null,
   "metadata": {
    "collapsed": false
   },
   "outputs": [],
   "source": [
    "import requests\n",
    "url = 'http://climatedataapi.worldbank.org/climateweb/rest/v1/country/cru/tas/year/CAN.csv'\n",
    "response = requests.get(url)\n",
    "if response.status_code != 200:\n",
    "    print('Failed to get data:', response.status_code)\n",
    "else:\n",
    "    print('First 100 characters of data are')\n",
    "    print(response.text[:100])"
   ]
  },
  {
   "cell_type": "markdown",
   "metadata": {},
   "source": [
    "### 2. CSV 데이터 처리"
   ]
  },
  {
   "cell_type": "code",
   "execution_count": null,
   "metadata": {
    "collapsed": false
   },
   "outputs": [],
   "source": [
    "with open('test01.csv', 'r') as reader:\n",
    "    for line in reader:\n",
    "        print(len(line))"
   ]
  },
  {
   "cell_type": "code",
   "execution_count": null,
   "metadata": {
    "collapsed": false
   },
   "outputs": [],
   "source": [
    "with open('test02.csv', 'r') as reader:\n",
    "    for line in reader:\n",
    "        fields = line.split(',')\n",
    "        print(fields)"
   ]
  },
  {
   "cell_type": "code",
   "execution_count": null,
   "metadata": {
    "collapsed": false
   },
   "outputs": [],
   "source": [
    "import csv\n",
    "\n",
    "with open('test02.csv', 'r') as raw:\n",
    "    cooked = csv.reader(raw)\n",
    "    for record in cooked:\n",
    "        print(record)"
   ]
  },
  {
   "cell_type": "code",
   "execution_count": null,
   "metadata": {
    "collapsed": false
   },
   "outputs": [],
   "source": [
    "import csv\n",
    "\n",
    "with open('test02.csv', 'r') as raw:\n",
    "    lines = raw.readlines()\n",
    "cooked = csv.reader(lines)\n",
    "for record in cooked:\n",
    "    print(record)"
   ]
  },
  {
   "cell_type": "code",
   "execution_count": null,
   "metadata": {
    "collapsed": false
   },
   "outputs": [],
   "source": [
    "with open('test01.csv', 'r') as reader:\n",
    "    data = reader.read()\n",
    "    lines = data.split('\\n')\n",
    "    print(lines)"
   ]
  },
  {
   "cell_type": "code",
   "execution_count": null,
   "metadata": {
    "collapsed": false
   },
   "outputs": [],
   "source": [
    "with open('test01.csv', 'r') as reader:\n",
    "    data = reader.read()\n",
    "    lines = data.strip().split('\\n')\n",
    "    print(lines)"
   ]
  },
  {
   "cell_type": "code",
   "execution_count": null,
   "metadata": {
    "collapsed": false
   },
   "outputs": [],
   "source": [
    "import requests\n",
    "import csv\n",
    "\n",
    "url = 'http://climatedataapi.worldbank.org/climateweb/rest/v1/country/cru/tas/year/CAN.csv'\n",
    "response = requests.get(url)\n",
    "if response.status_code != 200:\n",
    "    print('Failed to get data:', response.status_code)\n",
    "else:\n",
    "    wrapper = csv.reader(response.text.strip().split('\\n'))\n",
    "    for record in wrapper:\n",
    "        print(record)"
   ]
  },
  {
   "cell_type": "code",
   "execution_count": null,
   "metadata": {
    "collapsed": false
   },
   "outputs": [],
   "source": [
    "import requests\n",
    "import csv\n",
    "\n",
    "url = 'http://climatedataapi.worldbank.org/climateweb/rest/v1/country/cru/tas/year/CAN.csv'\n",
    "response = requests.get(url)\n",
    "if response.status_code != 200:\n",
    "    print('Failed to get data:', response.status_code)\n",
    "else:\n",
    "    wrapper = csv.reader(response.text.strip().split('\\n'))\n",
    "    for record in wrapper:\n",
    "        if record[0] != 'year':\n",
    "            year = int(record[0])\n",
    "            value = float(record[1])\n",
    "            print(year, value)"
   ]
  },
  {
   "cell_type": "markdown",
   "metadata": {},
   "source": [
    "### 3. 오류처리와 일반화"
   ]
  },
  {
   "cell_type": "code",
   "execution_count": null,
   "metadata": {
    "collapsed": true
   },
   "outputs": [],
   "source": [
    "def annual_mean_temp(country):\n",
    "    ''' (\"CAN\" 처럼) 3-문자로 된 ISO코드로 특정 국가에 대한 연평균 기온정보를 얻어온다.'''\n",
    "    url = 'http://climatedataapi.worldbank.org/climateweb/rest/v1/country/cru/tas/year/' + country + '.csv'\n",
    "    response = requests.get(url)\n",
    "    if response.status_code != 200:\n",
    "        print('Failed to get data:', response.status_code)\n",
    "    else:\n",
    "        wrapper = csv.reader(response.text.strip().split('\\n'))\n",
    "        results = []\n",
    "        for record in wrapper:\n",
    "            if record[0] != 'year':\n",
    "                year = int(record[0])\n",
    "                value = float(record[1])\n",
    "                results.append([year, value])\n",
    "        return results"
   ]
  },
  {
   "cell_type": "code",
   "execution_count": null,
   "metadata": {
    "collapsed": false
   },
   "outputs": [],
   "source": [
    "canada = annual_mean_temp('CAN')\n",
    "print('first three entries for Canada:', canada[:3])"
   ]
  },
  {
   "cell_type": "code",
   "execution_count": null,
   "metadata": {
    "collapsed": false
   },
   "outputs": [],
   "source": [
    "latveria = annual_mean_temp('LTV')\n",
    "print 'first three entries for Latveria:', latveria[:3]"
   ]
  },
  {
   "cell_type": "code",
   "execution_count": null,
   "metadata": {
    "collapsed": false
   },
   "outputs": [],
   "source": [
    "def annual_mean_temp(country):\n",
    "    ''' (\"CAN\" 처럼) 3-문자로 된 ISO코드로 특정 국가에 대한 연평균 기온정보를 얻어온다.'''\n",
    "    url = 'http://climatedataapi.worldbank.org/climateweb/rest/v1/country/cru/tas/year/' + country + '.csv'\n",
    "    print('url used is', url)\n",
    "    response = requests.get(url)\n",
    "    print('response code:', response.status_code)\n",
    "    print('length of data:', len(response.text))\n",
    "    if response.status_code != 200:\n",
    "        print('Failed to get data:', response.status_code)\n",
    "    else:\n",
    "        wrapper = csv.reader(response.text.strip().split('\\n'))\n",
    "        results = []\n",
    "        for record in wrapper:\n",
    "            if record[0] != 'year':\n",
    "                year = int(record[0])\n",
    "                value = float(record[1])\n",
    "                results.append([year, value])\n",
    "        return results\n",
    "\n",
    "latveria = annual_mean_temp('LTV')\n",
    "print('number of records for Latveria:', len(latveria))"
   ]
  },
  {
   "cell_type": "code",
   "execution_count": null,
   "metadata": {
    "collapsed": false
   },
   "outputs": [],
   "source": [
    "def annual_mean_temp(country):\n",
    "    ''' \n",
    "    (\"CAN\" 처럼) 3-문자로 된 ISO코드로 특정 국가에 대한 연평균 기온정보를 얻어온다.\n",
    "    만약 국가코드가 적법하지 않다면, 빈 리스트를 반환하라.\n",
    "    '''\n",
    "    url = 'http://climatedataapi.worldbank.org/climateweb/rest/v1/country/cru/tas/year/' + country + '.csv'\n",
    "    response = requests.get(url)\n",
    "    results = []\n",
    "    if len(response.text) > 0:\n",
    "        wrapper = csv.reader(response.text.strip().split('\\n'))\n",
    "        for record in wrapper:\n",
    "            if record[0] != 'year':\n",
    "                year = int(record[0])\n",
    "                value = float(record[1])\n",
    "                results.append([year, value])\n",
    "    return results\n",
    "\n",
    "print('number of records for Canada:', len(annual_mean_temp('CAN')))\n",
    "print('number of records for Latveria:', len(annual_mean_temp('LTV')))"
   ]
  },
  {
   "cell_type": "code",
   "execution_count": null,
   "metadata": {
    "collapsed": true
   },
   "outputs": [],
   "source": [
    "def diff_records(left, right):\n",
    "    '''[year, value] 리스트 짝이 주어지면, [year, difference] 리스트 짝을 반환하라.'''\n",
    "    num_years = len(left)\n",
    "    results = []\n",
    "    for i in range(num_years):\n",
    "        left_year, left_value = left[i]\n",
    "        right_year, right_value = right[i]\n",
    "        difference = left_value - right_value\n",
    "        results.append([left_year, difference])\n",
    "    return results"
   ]
  },
  {
   "cell_type": "code",
   "execution_count": null,
   "metadata": {
    "collapsed": false
   },
   "outputs": [],
   "source": [
    "print('one record:', diff_records([[1900, 1.0]],\n",
    "                                  [[1900, 2.0]]))\n",
    "print('two records:', diff_records([[1900, 1.0], [1901, 10.0]],\n",
    "                                   [[1900, 2.0], [1901, 20.0]]))"
   ]
  },
  {
   "cell_type": "code",
   "execution_count": null,
   "metadata": {
    "collapsed": false
   },
   "outputs": [],
   "source": [
    "print('mis-matched years:', diff_records([[1900, 1.0]],\n",
    "                                         [[1999, 2.0]]))\n",
    "print('left is shorter', diff_records([[1900, 1.0]],\n",
    "                                      [[1900, 10.0], [1901, 20.0]]))\n",
    "print('right is shorter', diff_records([[1900, 1.0], [1901, 2.0]],\n",
    "                                       [[1900, 10.0]]))"
   ]
  },
  {
   "cell_type": "code",
   "execution_count": null,
   "metadata": {
    "collapsed": true
   },
   "outputs": [],
   "source": [
    "def diff_records(left, right):\n",
    "    '''\n",
    "    [year, value] 리스트 짝이 주어지면, [year, difference] 리스트 짝을 반환하라.\n",
    "    만약 입력이 정확하게 대응되는 년도가 아니라면 동작하지 않는다.\n",
    "    '''\n",
    "    assert len(left) == len(right), \\\n",
    "           'Inputs have different lengths.'\n",
    "    num_years = len(left)\n",
    "    results = []\n",
    "    for i in range(num_years):\n",
    "        left_year, left_value = left[i]\n",
    "        right_year, right_value = right[i]\n",
    "        assert left_year == right_year, \\\n",
    "               'Record {0} is for different years: {1} vs {2}'.format(i, left_year, right_year)\n",
    "        difference = left_value - right_value\n",
    "        results.append([left_year, difference])\n",
    "    return results"
   ]
  },
  {
   "cell_type": "code",
   "execution_count": null,
   "metadata": {
    "collapsed": false
   },
   "outputs": [],
   "source": [
    "print('one record:', diff_records([[1900, 1.0]],\n",
    "                                  [[1900, 2.0]]))\n",
    "print('two records:', diff_records([[1900, 1.0], [1901, 10.0]],\n",
    "                                   [[1900, 2.0], [1901, 20.0]]))"
   ]
  },
  {
   "cell_type": "code",
   "execution_count": null,
   "metadata": {
    "collapsed": false
   },
   "outputs": [],
   "source": [
    "print('mis-matched years:', diff_records([[1900, 1.0]],\n",
    "                                         [[1999, 2.0]]))"
   ]
  },
  {
   "cell_type": "code",
   "execution_count": null,
   "metadata": {
    "collapsed": false
   },
   "outputs": [],
   "source": [
    "print('left is shorter', diff_records([[1900, 1.0]],\n",
    "                                      [[1900, 10.0], [1901, 20.0]]))"
   ]
  },
  {
   "cell_type": "code",
   "execution_count": null,
   "metadata": {
    "collapsed": false
   },
   "outputs": [],
   "source": [
    "print('right is shorter', diff_records([[1900, 1.0], [1901, 2.0]],\n",
    "                                       [[1900, 10.0]]))"
   ]
  },
  {
   "cell_type": "markdown",
   "metadata": {},
   "source": [
    "### 4. 시각화"
   ]
  },
  {
   "cell_type": "code",
   "execution_count": null,
   "metadata": {
    "collapsed": false
   },
   "outputs": [],
   "source": [
    "%matplotlib inline\n",
    "from matplotlib import pyplot as plt\n",
    "\n",
    "australia = annual_mean_temp('AUS')\n",
    "canada = annual_mean_temp('CAN')\n",
    "diff = diff_records(australia, canada)\n",
    "plt.plot(diff)\n",
    "plt.show()"
   ]
  },
  {
   "cell_type": "code",
   "execution_count": null,
   "metadata": {
    "collapsed": false
   },
   "outputs": [],
   "source": [
    "import numpy as np\n",
    "d = np.array(diff)\n",
    "plt.plot(d[:, 0], d[:, 1])\n",
    "plt.show()"
   ]
  },
  {
   "cell_type": "code",
   "execution_count": null,
   "metadata": {
    "collapsed": false
   },
   "outputs": [],
   "source": [
    "plt.plot(d[:, 0], d[:, 1])\n",
    "plt.ylim((0,30))\n",
    "plt.xlim((1950,2000))\n",
    "plt.show()"
   ]
  },
  {
   "cell_type": "markdown",
   "metadata": {
    "collapsed": true
   },
   "source": [
    "### 5. 데이터 게시"
   ]
  },
  {
   "cell_type": "code",
   "execution_count": null,
   "metadata": {
    "collapsed": true
   },
   "outputs": [],
   "source": [
    "import csv\n",
    "\n",
    "def save_records(filename, records):\n",
    "    '''Save a list of [year, temp] pairs as CSV.'''\n",
    "    with open(filename, 'w') as raw:\n",
    "        writer = csv.writer(raw)\n",
    "        writer.writerows(records)\n",
    "        \n",
    "# save_records('temp.csv', [[1, 2], [3, 4]])        #"
   ]
  },
  {
   "cell_type": "code",
   "execution_count": null,
   "metadata": {
    "collapsed": false
   },
   "outputs": [],
   "source": [
    "import csv\n",
    "\n",
    "def save_records(left, right, records):\n",
    "    '''Save a list of [year, temp] pairs as CSV.'''\n",
    "    filename = left + '-' + right + '.csv'\n",
    "    with open(filename, 'wb') as raw:\n",
    "        writer = csv.writer(raw)\n",
    "        writer.writerows(records)\n",
    "        \n",
    "australia = annual_mean_temp('KOR')\n",
    "canada = annual_mean_temp('JPN')\n",
    "diff = diff_records(australia, canada)        \n",
    "save_records('KOR', 'JPN',  diff)"
   ]
  },
  {
   "cell_type": "markdown",
   "metadata": {},
   "source": [
    "[Python3: writing csv files](http://stackoverflow.com/questions/7200606/python3-writing-csv-files)"
   ]
  },
  {
   "cell_type": "code",
   "execution_count": null,
   "metadata": {
    "collapsed": true
   },
   "outputs": [],
   "source": []
  }
 ],
 "metadata": {
  "kernelspec": {
   "display_name": "Python 2",
   "language": "python",
   "name": "python2"
  },
  "language_info": {
   "codemirror_mode": {
    "name": "ipython",
    "version": 2
   },
   "file_extension": ".py",
   "mimetype": "text/x-python",
   "name": "python",
   "nbconvert_exporter": "python",
   "pygments_lexer": "ipython2",
   "version": "2.7.10"
  }
 },
 "nbformat": 4,
 "nbformat_minor": 0
}
